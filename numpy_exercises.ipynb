{
 "cells": [
  {
   "cell_type": "code",
   "execution_count": 1,
   "id": "99629b78",
   "metadata": {},
   "outputs": [],
   "source": [
    "import numpy as np\n",
    "a = np.array([4, 10, 12, 23, -2, -1, 0, 0, 0, -6, 3, -7])"
   ]
  },
  {
   "cell_type": "markdown",
   "id": "da631411",
   "metadata": {},
   "source": [
    "### Q1"
   ]
  },
  {
   "cell_type": "code",
   "execution_count": 11,
   "id": "4ae8e26c",
   "metadata": {},
   "outputs": [
    {
     "name": "stdout",
     "output_type": "stream",
     "text": [
      "4 negative numbers\n"
     ]
    }
   ],
   "source": [
    "count = 0\n",
    "for i in range(len(a)):\n",
    "    if a[i] < 0:\n",
    "        count += 1\n",
    "print(f'{count} negative numbers')"
   ]
  },
  {
   "cell_type": "markdown",
   "id": "bafd9f4e",
   "metadata": {},
   "source": [
    "### Q2"
   ]
  },
  {
   "cell_type": "code",
   "execution_count": 10,
   "id": "888876c6",
   "metadata": {},
   "outputs": [
    {
     "name": "stdout",
     "output_type": "stream",
     "text": [
      "5 positive numbers\n"
     ]
    }
   ],
   "source": [
    "count = 0\n",
    "for i in range(len(a)):\n",
    "    if a[i] > 0:\n",
    "        count += 1\n",
    "print(f'{count} positive numbers')"
   ]
  },
  {
   "cell_type": "markdown",
   "id": "57d80ec8",
   "metadata": {},
   "source": [
    "### Q3"
   ]
  },
  {
   "cell_type": "code",
   "execution_count": 9,
   "id": "639fc2f6",
   "metadata": {},
   "outputs": [
    {
     "name": "stdout",
     "output_type": "stream",
     "text": [
      "3 positive even numbers\n"
     ]
    }
   ],
   "source": [
    "count = 0\n",
    "for i in range(len(a)):\n",
    "    if a[i] > 0 and a[i]%2 == 0:\n",
    "        count += 1\n",
    "print(f'{count} positive even numbers')"
   ]
  },
  {
   "cell_type": "markdown",
   "id": "db096b7d",
   "metadata": {},
   "source": [
    "### Q4"
   ]
  },
  {
   "cell_type": "code",
   "execution_count": 17,
   "id": "0c6a7b24",
   "metadata": {},
   "outputs": [
    {
     "name": "stdout",
     "output_type": "stream",
     "text": [
      "10 positive numbers\n"
     ]
    }
   ],
   "source": [
    "count = 0\n",
    "for i in range(len(a)):\n",
    "    if (a[i]+3) > 0:\n",
    "        count += 1\n",
    "print(f'{count} positive numbers')"
   ]
  },
  {
   "cell_type": "markdown",
   "id": "5ffb4974",
   "metadata": {},
   "source": [
    "### Q5"
   ]
  },
  {
   "cell_type": "code",
   "execution_count": 24,
   "id": "42537495",
   "metadata": {},
   "outputs": [
    {
     "name": "stdout",
     "output_type": "stream",
     "text": [
      "74.0\n",
      "144.0243035046516\n"
     ]
    }
   ],
   "source": [
    "print(np.mean(a**2))\n",
    "print(np.std(a**2))"
   ]
  },
  {
   "cell_type": "markdown",
   "id": "0a6e5106",
   "metadata": {},
   "source": [
    "### Q6"
   ]
  },
  {
   "cell_type": "code",
   "execution_count": 44,
   "id": "38577474",
   "metadata": {},
   "outputs": [
    {
     "name": "stdout",
     "output_type": "stream",
     "text": [
      "Pre-centered mean: 3.0\n",
      "[  1.   7.   9.  20.  -5.  -4.  -3.  -3.  -3.  -9.   0. -10.]\n",
      "Centered mean: 0.0\n"
     ]
    }
   ],
   "source": [
    "print(f'Pre-centered mean: {np.mean(a)}')\n",
    "print((a - np.mean(a)))\n",
    "print(f'Centered mean: {np.mean(a - np.mean(a))}')"
   ]
  },
  {
   "cell_type": "markdown",
   "id": "95ebde46",
   "metadata": {},
   "source": [
    "### Q7"
   ]
  },
  {
   "cell_type": "code",
   "execution_count": 47,
   "id": "60dc9dc1",
   "metadata": {},
   "outputs": [
    {
     "name": "stdout",
     "output_type": "stream",
     "text": [
      "[ 0.12403473  0.86824314  1.11631261  2.48069469 -0.62017367 -0.49613894\n",
      " -0.3721042  -0.3721042  -0.3721042  -1.11631261  0.         -1.24034735]\n"
     ]
    }
   ],
   "source": [
    "zscore = (a - np.mean(a))/np.std(a)\n",
    "print(zscore)"
   ]
  },
  {
   "cell_type": "markdown",
   "id": "02615fe4",
   "metadata": {},
   "source": [
    "### Q8"
   ]
  },
  {
   "cell_type": "code",
   "execution_count": 83,
   "id": "e0aa8cf4",
   "metadata": {
    "scrolled": true
   },
   "outputs": [
    {
     "name": "stdout",
     "output_type": "stream",
     "text": [
      "[ 9 11 13]\n",
      "[3 4 5]\n",
      "[6 7 8]\n",
      "5.5\n",
      "20160\n",
      "[[ 9 16 25]\n",
      " [36 49 64]]\n",
      "[3, 5, 7, 3, 7]\n",
      "[4, 6, 8, 6, 4]\n",
      "(2, 3)\n",
      "[[3 6]\n",
      " [4 7]\n",
      " [5 8]]\n",
      "[[3 4 5 6 7 8]]\n",
      "[[3]\n",
      " [4]\n",
      " [5]\n",
      " [6]\n",
      " [7]\n",
      " [8]]\n"
     ]
    }
   ],
   "source": [
    "import numpy as np\n",
    "# Life w/o numpy to life with numpy\n",
    "\n",
    "## Setup 1\n",
    "a = [1, 2, 3, 4, 5, 6, 7, 8, 9, 10]\n",
    "\n",
    "# Use python's built in functionality/operators to determine the following:\n",
    "# Exercise 1 - Make a variable called sum_of_a to hold the sum of all the numbers in above list\n",
    "sum_of_a = sum(a)\n",
    "# Exercise 2 - Make a variable named min_of_a to hold the minimum of all the numbers in the above list\n",
    "min_of_a = min(a)\n",
    "# Exercise 3 - Make a variable named max_of_a to hold the max number of all the numbers in the above list\n",
    "max_of_a = max(a)\n",
    "# Exercise 4 - Make a variable named mean_of_a to hold the average of all the numbers in the above list\n",
    "mean_of_a = sum(a)/len(a)\n",
    "# Exercise 5 - Make a variable named product_of_a to hold the product of multiplying all the numbers in the above list together\n",
    "product_of_a = 1\n",
    "for i in range(len(a)):\n",
    "    product_of_a *= a[i]\n",
    "# Exercise 6 - Make a variable named squares_of_a. It should hold each number in a squared like [1, 4, 9, 16, 25...]\n",
    "squares_of_a = []\n",
    "for i in range(len(a)):\n",
    "    squares_of_a.append(a[i] ** 2)\n",
    "# Exercise 7 - Make a variable named odds_in_a. It should hold only the odd numbers\n",
    "odds_in_a = []\n",
    "for i in range(len(a)):\n",
    "    if a[i]%2 == 1:\n",
    "        odds_in_a.append(a[i])\n",
    "\n",
    "# Exercise 8 - Make a variable named evens_in_a. It should hold only the evens.\n",
    "evens_in_a = []\n",
    "for i in range(len(a)):\n",
    "    if a[i]%2 == 0:\n",
    "        evens_in_a.append(a[i])\n",
    "## What about life in two dimensions? A list of lists is matrix, a table, a spreadsheet, a chessboard...\n",
    "## Setup 2: Consider what it would take to find the sum, min, max, average, sum, product, and list of squares for this list of two lists.\n",
    "b = [\n",
    "    [3, 4, 5],\n",
    "    [6, 7, 8]\n",
    "]\n",
    "\n",
    "b = np.array(b)\n",
    "# Exercise 1 - refactor the following to use numpy. Use sum_of_b as the variable. **Hint, you'll first need to make sure that the \"b\" variable is a numpy array**\n",
    "sum_of_b = 0\n",
    "for row in b:\n",
    "    sum_of_b += sum(row)\n",
    "print(np.sum(b,0))\n",
    "# Exercise 2 - refactor the following to use numpy. \n",
    "min_of_b = min(b[0]) if min(b[0]) <= min(b[1]) else min(b[1])  \n",
    "print(np.minimum(b[0],b[1]))\n",
    "# Exercise 3 - refactor the following maximum calculation to find the answer with numpy.\n",
    "max_of_b = max(b[0]) if max(b[0]) >= max(b[1]) else max(b[1])\n",
    "print(np.maximum(b[0],b[1]))\n",
    "\n",
    "# Exercise 4 - refactor the following using numpy to find the mean of b\n",
    "mean_of_b = (sum(b[0]) + sum(b[1])) / (len(b[0]) + len(b[1]))\n",
    "print(np.mean(b))\n",
    "# Exercise 5 - refactor the following to use numpy for calculating the product of all numbers multiplied together.\n",
    "product_of_b = 1\n",
    "#for row in b:\n",
    "#    for number in row:\n",
    "#        product_of_b *= number\n",
    "print(np.prod(b))\n",
    "# Exercise 6 - refactor the following to use numpy to find the list of squares \n",
    "#squares_of_b = []\n",
    "#for row in b:\n",
    "#    for number in row:\n",
    "#        squares_of_b.append(number**2)\n",
    "print(np.square(b))\n",
    "# Exercise 7 - refactor using numpy to determine the odds_in_b\n",
    "odds_in_b = []\n",
    "#for row in b:\n",
    "#    for number in row:\n",
    "#        if(number % 2 != 0):\n",
    "#            odds_in_b.append(number)\n",
    "\n",
    "for i in range(len(b)):\n",
    "    if (b[0][i] % 2 != 0):\n",
    "        odds_in_b.append(b[0][i])\n",
    "    if (b[1][i] % 2 != 0):\n",
    "        odds_in_b.append(b[1][i])\n",
    "print(odds_in_b)        \n",
    "# Exercise 8 - refactor the following to use numpy to filter only the even numbers\n",
    "evens_in_b = []\n",
    "#for row in b:\n",
    "#    for number in row:\n",
    "#        if(number % 2 == 0):\n",
    "#            evens_in_b.append(number)\n",
    "\n",
    "for i in range(len(b)):\n",
    "    if (b[0][i] % 2 == 0):\n",
    "        evens_in_b.append(b[0][i])\n",
    "    if (b[1][i] % 2 == 0):\n",
    "        evens_in_b.append(b[1][i])\n",
    "print(evens_in_b)\n",
    "# Exercise 9 - print out the shape of the array b.\n",
    "print(np.shape(b))\n",
    "# Exercise 10 - transpose the array b.\n",
    "print(np.transpose(b))\n",
    "# Exercise 11 - reshape the array b to be a single list of 6 numbers. (1 x 6)\n",
    "print(np.reshape(b, (1,6)))\n",
    "# Exercise 12 - reshape the array b to be a list of 6 lists, each containing only 1 number (6 x 1)\n",
    "print(np.reshape(b, (6,1)))\n",
    "## Setup 3\n",
    "c = [\n",
    "    [1, 2, 3],\n",
    "    [4, 5, 6],\n",
    "    [7, 8, 9]\n",
    "]\n",
    "\n",
    "# HINT, you'll first need to make sure that the \"c\" variable is a numpy array prior to using numpy array methods.\n",
    "# Exercise 1 - Find the min, max, sum, and product of c.\n",
    "\n",
    "# Exercise 2 - Determine the standard deviation of c.\n",
    "\n",
    "# Exercise 3 - Determine the variance of c.\n",
    "\n",
    "# Exercise 4 - Print out the shape of the array c\n",
    "\n",
    "# Exercise 5 - Transpose c and print out transposed result.\n",
    "\n",
    "# Exercise 6 - Get the dot product of the array c with c. \n",
    "\n",
    "# Exercise 7 - Write the code necessary to sum up the result of c times c transposed. Answer should be 261\n",
    "\n",
    "# Exercise 8 - Write the code necessary to determine the product of c times c transposed. Answer should be 131681894400.\n",
    "\n",
    "\n",
    "## Setup 4\n",
    "d = [\n",
    "    [90, 30, 45, 0, 120, 180],\n",
    "    [45, -90, -30, 270, 90, 0],\n",
    "    [60, 45, -45, 90, -45, 180]\n",
    "]\n",
    "\n",
    "# Exercise 1 - Find the sine of all the numbers in d\n",
    "\n",
    "# Exercise 2 - Find the cosine of all the numbers in d\n",
    "\n",
    "# Exercise 3 - Find the tangent of all the numbers in d\n",
    "\n",
    "# Exercise 4 - Find all the negative numbers in d\n",
    "\n",
    "# Exercise 5 - Find all the positive numbers in d\n",
    "\n",
    "# Exercise 6 - Return an array of only the unique numbers in d.\n",
    "\n",
    "# Exercise 7 - Determine how many unique numbers there are in d.\n",
    "\n",
    "# Exercise 8 - Print out the shape of d.\n",
    "\n",
    "# Exercise 9 - Transpose and then print out the shape of d.\n",
    "\n",
    "# Exercise 10 - Reshape d into an array of 9 x 2"
   ]
  },
  {
   "cell_type": "code",
   "execution_count": 84,
   "id": "de68117c",
   "metadata": {},
   "outputs": [
    {
     "name": "stdout",
     "output_type": "stream",
     "text": [
      "[6, 4]\n"
     ]
    }
   ],
   "source": [
    "evens_in_b = []\n",
    "for i in range(len(b)):\n",
    "    if (b[0][i] % 2 == 0):\n",
    "        evens_in_b.append(b[0][i])\n",
    "    if (b[1][i] % 2 == 0):\n",
    "        evens_in_b.append(b[1][i])\n",
    "print(evens_in_b)"
   ]
  }
 ],
 "metadata": {
  "kernelspec": {
   "display_name": "Python 3 (ipykernel)",
   "language": "python",
   "name": "python3"
  },
  "language_info": {
   "codemirror_mode": {
    "name": "ipython",
    "version": 3
   },
   "file_extension": ".py",
   "mimetype": "text/x-python",
   "name": "python",
   "nbconvert_exporter": "python",
   "pygments_lexer": "ipython3",
   "version": "3.9.12"
  }
 },
 "nbformat": 4,
 "nbformat_minor": 5
}
